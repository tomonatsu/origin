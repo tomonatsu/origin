{
 "cells": [
  {
   "cell_type": "code",
   "execution_count": 19,
   "id": "999afb43-9240-4e50-b15e-b082ec9b19d1",
   "metadata": {},
   "outputs": [],
   "source": [
    "import streamlit as st\n",
    "import numpy as np\n",
    "import pandas as pd"
   ]
  },
  {
   "cell_type": "code",
   "execution_count": 23,
   "id": "38a137e0-272d-417a-8710-f0e889fe13db",
   "metadata": {},
   "outputs": [],
   "source": [
    "df = pd.DataFrame(\n",
    "    np.random.rand(20, 3),\n",
    "    columns=['a','b','c']\n",
    ")"
   ]
  },
  {
   "cell_type": "code",
   "execution_count": 21,
   "id": "422d4489-4cc8-4342-947d-1309e716991a",
   "metadata": {},
   "outputs": [],
   "source": [
    "st.write('DataFrame')"
   ]
  },
  {
   "cell_type": "code",
   "execution_count": 22,
   "id": "afe0c607-7034-4780-a8dd-a2a898f349bc",
   "metadata": {},
   "outputs": [
    {
     "data": {
      "text/plain": [
       "2"
      ]
     },
     "execution_count": 22,
     "metadata": {},
     "output_type": "execute_result"
    }
   ],
   "source": [
    "1+1"
   ]
  },
  {
   "cell_type": "code",
   "execution_count": null,
   "id": "4223d5a8-1c75-4e39-97cc-0ca18f72651b",
   "metadata": {},
   "outputs": [],
   "source": []
  },
  {
   "cell_type": "code",
   "execution_count": null,
   "id": "b91319cd-25fe-4ba7-9ffe-69ee53ecad2a",
   "metadata": {},
   "outputs": [],
   "source": []
  },
  {
   "cell_type": "code",
   "execution_count": null,
   "id": "449e3f31-4f2f-4d5f-a87c-5fd2d94ecabe",
   "metadata": {},
   "outputs": [],
   "source": []
  }
 ],
 "metadata": {
  "kernelspec": {
   "display_name": "Python 3 (ipykernel)",
   "language": "python",
   "name": "python3"
  },
  "language_info": {
   "codemirror_mode": {
    "name": "ipython",
    "version": 3
   },
   "file_extension": ".py",
   "mimetype": "text/x-python",
   "name": "python",
   "nbconvert_exporter": "python",
   "pygments_lexer": "ipython3",
   "version": "3.8.5"
  }
 },
 "nbformat": 4,
 "nbformat_minor": 5
}
